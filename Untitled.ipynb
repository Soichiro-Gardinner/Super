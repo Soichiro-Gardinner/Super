{
 "cells": [
  {
   "cell_type": "markdown",
   "id": "4dd951d2",
   "metadata": {},
   "source": [
    "## Extract"
   ]
  },
  {
   "cell_type": "code",
   "execution_count": 1,
   "id": "fd69e26a",
   "metadata": {},
   "outputs": [],
   "source": [
    "import numpy as np\n",
    "import pandas as pd\n",
    "\n",
    "# Step 1: Read the CSV files\n",
    "info_df = pd.read_csv('superhero_info - superhero_info (1).csv', delimiter='\\t')\n",
    "powers_df = pd.read_csv('superhero_powers - superhero_powers.csv')"
   ]
  },
  {
   "cell_type": "markdown",
   "id": "6567a1c6",
   "metadata": {},
   "source": [
    "- **Stuck info**"
   ]
  },
  {
   "cell_type": "code",
   "execution_count": 2,
   "id": "e0a6741b",
   "metadata": {},
   "outputs": [
    {
     "data": {
      "text/html": [
       "<div>\n",
       "<style scoped>\n",
       "    .dataframe tbody tr th:only-of-type {\n",
       "        vertical-align: middle;\n",
       "    }\n",
       "\n",
       "    .dataframe tbody tr th {\n",
       "        vertical-align: top;\n",
       "    }\n",
       "\n",
       "    .dataframe thead th {\n",
       "        text-align: right;\n",
       "    }\n",
       "</style>\n",
       "<table border=\"1\" class=\"dataframe\">\n",
       "  <thead>\n",
       "    <tr style=\"text-align: right;\">\n",
       "      <th></th>\n",
       "      <th>Hero|Publisher,Gender,Race,Alignment,Hair color,Eye color,Skin color,Measurements</th>\n",
       "    </tr>\n",
       "  </thead>\n",
       "  <tbody>\n",
       "    <tr>\n",
       "      <th>0</th>\n",
       "      <td>A-Bomb|Marvel Comics,Male,Human,good,No Hair,y...</td>\n",
       "    </tr>\n",
       "    <tr>\n",
       "      <th>1</th>\n",
       "      <td>Abe Sapien|Dark Horse Comics,Male,Icthyo Sapie...</td>\n",
       "    </tr>\n",
       "    <tr>\n",
       "      <th>2</th>\n",
       "      <td>Abin Sur|DC Comics,Male,Ungaran,good,No Hair,b...</td>\n",
       "    </tr>\n",
       "    <tr>\n",
       "      <th>3</th>\n",
       "      <td>Abomination|Marvel Comics,Male,Human / Radiati...</td>\n",
       "    </tr>\n",
       "    <tr>\n",
       "      <th>4</th>\n",
       "      <td>Absorbing Man|Marvel Comics,Male,Human,bad,No ...</td>\n",
       "    </tr>\n",
       "  </tbody>\n",
       "</table>\n",
       "</div>"
      ],
      "text/plain": [
       "  Hero|Publisher,Gender,Race,Alignment,Hair color,Eye color,Skin color,Measurements\n",
       "0  A-Bomb|Marvel Comics,Male,Human,good,No Hair,y...                               \n",
       "1  Abe Sapien|Dark Horse Comics,Male,Icthyo Sapie...                               \n",
       "2  Abin Sur|DC Comics,Male,Ungaran,good,No Hair,b...                               \n",
       "3  Abomination|Marvel Comics,Male,Human / Radiati...                               \n",
       "4  Absorbing Man|Marvel Comics,Male,Human,bad,No ...                               "
      ]
     },
     "execution_count": 2,
     "metadata": {},
     "output_type": "execute_result"
    }
   ],
   "source": [
    "info_df.head()"
   ]
  },
  {
   "cell_type": "code",
   "execution_count": 3,
   "id": "d60a8749",
   "metadata": {},
   "outputs": [
    {
     "name": "stdout",
     "output_type": "stream",
     "text": [
      "Problematic Column: Hero|Publisher,Gender,Race,Alignment,Hair color,Eye color,Skin color,Measurements\n"
     ]
    }
   ],
   "source": [
    "for i in info_df.columns:\n",
    "    print(f'Problematic Column: {i}')"
   ]
  },
  {
   "cell_type": "markdown",
   "id": "051bf286",
   "metadata": {},
   "source": [
    "- **Stuck powers**"
   ]
  },
  {
   "cell_type": "code",
   "execution_count": 4,
   "id": "861fffda",
   "metadata": {},
   "outputs": [
    {
     "data": {
      "text/html": [
       "<div>\n",
       "<style scoped>\n",
       "    .dataframe tbody tr th:only-of-type {\n",
       "        vertical-align: middle;\n",
       "    }\n",
       "\n",
       "    .dataframe tbody tr th {\n",
       "        vertical-align: top;\n",
       "    }\n",
       "\n",
       "    .dataframe thead th {\n",
       "        text-align: right;\n",
       "    }\n",
       "</style>\n",
       "<table border=\"1\" class=\"dataframe\">\n",
       "  <thead>\n",
       "    <tr style=\"text-align: right;\">\n",
       "      <th></th>\n",
       "      <th>hero_names</th>\n",
       "      <th>Powers</th>\n",
       "    </tr>\n",
       "  </thead>\n",
       "  <tbody>\n",
       "    <tr>\n",
       "      <th>0</th>\n",
       "      <td>3-D Man</td>\n",
       "      <td>Agility,Super Strength,Stamina,Super Speed</td>\n",
       "    </tr>\n",
       "    <tr>\n",
       "      <th>1</th>\n",
       "      <td>A-Bomb</td>\n",
       "      <td>Accelerated Healing,Durability,Longevity,Super...</td>\n",
       "    </tr>\n",
       "    <tr>\n",
       "      <th>2</th>\n",
       "      <td>Abe Sapien</td>\n",
       "      <td>Agility,Accelerated Healing,Cold Resistance,Du...</td>\n",
       "    </tr>\n",
       "    <tr>\n",
       "      <th>3</th>\n",
       "      <td>Abin Sur</td>\n",
       "      <td>Lantern Power Ring</td>\n",
       "    </tr>\n",
       "    <tr>\n",
       "      <th>4</th>\n",
       "      <td>Abomination</td>\n",
       "      <td>Accelerated Healing,Intelligence,Super Strengt...</td>\n",
       "    </tr>\n",
       "  </tbody>\n",
       "</table>\n",
       "</div>"
      ],
      "text/plain": [
       "    hero_names                                             Powers\n",
       "0      3-D Man         Agility,Super Strength,Stamina,Super Speed\n",
       "1       A-Bomb  Accelerated Healing,Durability,Longevity,Super...\n",
       "2   Abe Sapien  Agility,Accelerated Healing,Cold Resistance,Du...\n",
       "3     Abin Sur                                 Lantern Power Ring\n",
       "4  Abomination  Accelerated Healing,Intelligence,Super Strengt..."
      ]
     },
     "execution_count": 4,
     "metadata": {},
     "output_type": "execute_result"
    }
   ],
   "source": [
    "powers_df.head()"
   ]
  },
  {
   "cell_type": "markdown",
   "id": "cbbffe8e",
   "metadata": {},
   "source": [
    "## Transform"
   ]
  },
  {
   "cell_type": "code",
   "execution_count": 6,
   "id": "c1ce3147",
   "metadata": {},
   "outputs": [],
   "source": [
    "info_data = info_df.iloc[0, 0].split(',')\n",
    "\n",
    "# Separate the columns and the data\n",
    "columns = []\n",
    "data = []\n",
    "for col in info_data:\n",
    "    split_col = col.split('|')\n",
    "    if len(split_col) >= 2:\n",
    "        columns.append(split_col[0])\n",
    "        data.append(split_col[1])\n",
    "\n",
    "# Create a new DataFrame from the separated columns and data\n",
    "info_df = pd.DataFrame([data], columns=columns)"
   ]
  },
  {
   "cell_type": "code",
   "execution_count": null,
   "id": "195df40b",
   "metadata": {},
   "outputs": [],
   "source": [
    "# Split the \"Hero|Publisher\" column into separate \"Hero\" and \"Publisher\" columns\n",
    "info_df[['Hero', 'Publisher']] = info_df['Hero|Publisher'].str.split('|', expand=True)\n",
    "info_df = info_df.drop(columns='Hero|Publisher')"
   ]
  },
  {
   "cell_type": "code",
   "execution_count": null,
   "id": "9edf965d",
   "metadata": {},
   "outputs": [],
   "source": [
    "# Merge the dataframes on the \"Hero\" column\n",
    "df = pd.merge(info_df, powers_df, left_on='Hero', right_on='hero_names')"
   ]
  },
  {
   "cell_type": "code",
   "execution_count": null,
   "id": "fe1fdc3f",
   "metadata": {},
   "outputs": [],
   "source": [
    "# Clean and transform the data\n",
    "df['Height'] = df['Measurements'].str.extract(r\"'Height':\\s*'([^']+)'\")\n",
    "df['Weight'] = df['Measurements'].str.extract(r\"'Weight':\\s*'([^']+)'\")\n",
    "df['Height'] = df['Height'].str.replace(' cm', '').astype(float)\n",
    "df['Weight'] = df['Weight'].str.replace(' kg', '').astype(float)\n",
    "df = df.drop(columns=['Measurements', 'hero_names'])"
   ]
  },
  {
   "cell_type": "markdown",
   "id": "b515372c",
   "metadata": {},
   "source": [
    "# Load"
   ]
  },
  {
   "cell_type": "code",
   "execution_count": null,
   "id": "123022b9",
   "metadata": {},
   "outputs": [],
   "source": [
    "# Create one-hot-encoded columns for each power\n",
    "powers = df['Powers'].str.get_dummies(sep=',')\n",
    "df = pd.concat([df, powers], axis=1)\n",
    "\n",
    "# Calculate the average weight of superpowers with and without Super Speed\n",
    "with_speed_avg_weight = df[df['Super Speed'] == 1]['Weight'].mean()\n",
    "without_speed_avg_weight = df[df['Super Speed'] == 0]['Weight'].mean()\n",
    "print(\"Average weight of superpowers with Super Speed:\", with_speed_avg_weight)\n",
    "print(\"Average weight of superpowers without Super Speed:\", without_speed_avg_weight)\n",
    "\n",
    "# Calculate the average height of heroes for each publisher\n",
    "avg_height_by_publisher = df.groupby('Publisher')['Height'].mean()\n",
    "print(\"Average height of heroes by publisher:\")\n",
    "print(avg_height_by_publisher)"
   ]
  }
 ],
 "metadata": {
  "kernelspec": {
   "display_name": "Python 3 (ipykernel)",
   "language": "python",
   "name": "python3"
  },
  "language_info": {
   "codemirror_mode": {
    "name": "ipython",
    "version": 3
   },
   "file_extension": ".py",
   "mimetype": "text/x-python",
   "name": "python",
   "nbconvert_exporter": "python",
   "pygments_lexer": "ipython3",
   "version": "3.9.15"
  },
  "toc": {
   "base_numbering": 1,
   "nav_menu": {},
   "number_sections": true,
   "sideBar": true,
   "skip_h1_title": false,
   "title_cell": "Table of Contents",
   "title_sidebar": "Contents",
   "toc_cell": false,
   "toc_position": {},
   "toc_section_display": true,
   "toc_window_display": false
  }
 },
 "nbformat": 4,
 "nbformat_minor": 5
}
