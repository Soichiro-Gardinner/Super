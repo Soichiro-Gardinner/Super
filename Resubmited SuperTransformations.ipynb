{
 "cells": [
  {
   "cell_type": "markdown",
   "id": "bd7dab21",
   "metadata": {},
   "source": [
    "# <span style=\"color:#134f5c\">Advance Transformations"
   ]
  },
  {
   "cell_type": "markdown",
   "id": "aa6a13da",
   "metadata": {},
   "source": [
    "## Extract:"
   ]
  },
  {
   "cell_type": "markdown",
   "id": "5107664d",
   "metadata": {},
   "source": [
    "- Import Files:"
   ]
  },
  {
   "cell_type": "code",
   "execution_count": 1,
   "id": "2388033d",
   "metadata": {},
   "outputs": [],
   "source": [
    "import pandas as pd\n",
    "import ast\n",
    "\n",
    "# Read superhero_info.csv\n",
    "superhero_info_df = pd.read_csv('superhero_info - superhero_info (1).csv')\n",
    "\n",
    "# Read superhero_powers.csv\n",
    "superhero_powers_df = pd.read_csv('superhero_powers - superhero_powers.csv')"
   ]
  },
  {
   "cell_type": "markdown",
   "id": "7cedff2e",
   "metadata": {},
   "source": [
    "## Transform:"
   ]
  },
  {
   "cell_type": "code",
   "execution_count": 2,
   "id": "fca1b969",
   "metadata": {},
   "outputs": [],
   "source": [
    "# Split the 'Hero|Publisher' column into separate columns\n",
    "superhero_info_df[['Hero', 'Publisher']] = superhero_info_df['Hero|Publisher'].str.split('|', expand=True)\n",
    "\n",
    "# Separate the measurements column into 2 columns\n",
    "superhero_info_df[['Height', 'Weight']] = superhero_info_df['Measurements'].str.extract(r\"'Height': '([\\d.]+) cm', 'Weight': '([\\d.]+) kg'\")"
   ]
  },
  {
   "cell_type": "markdown",
   "id": "86c80adc",
   "metadata": {},
   "source": [
    "- Remove:"
   ]
  },
  {
   "cell_type": "code",
   "execution_count": 3,
   "id": "77ffed4b",
   "metadata": {},
   "outputs": [],
   "source": [
    "# Remove 'cm' and 'kg' from Height and Weight columns\n",
    "superhero_info_df['Height'] = superhero_info_df['Height'].str.replace(' cm', '').astype(float)\n",
    "superhero_info_df['Weight'] = superhero_info_df['Weight'].str.replace(' kg', '').astype(float)"
   ]
  },
  {
   "cell_type": "markdown",
   "id": "4c063001",
   "metadata": {},
   "source": [
    "- OHE the necessary data:"
   ]
  },
  {
   "cell_type": "code",
   "execution_count": 4,
   "id": "bd12aee1",
   "metadata": {},
   "outputs": [],
   "source": [
    "# One hot encode the super powers using .explode\n",
    "superhero_powers_df['Powers'] = superhero_powers_df['Powers'].str.split(',')\n",
    "superhero_powers_df = superhero_powers_df.explode('Powers')\n",
    "superhero_powers_encoded = pd.get_dummies(superhero_powers_df, columns=['Powers'], prefix='', prefix_sep='')"
   ]
  },
  {
   "cell_type": "markdown",
   "id": "eadee993",
   "metadata": {},
   "source": [
    "## Load"
   ]
  },
  {
   "cell_type": "markdown",
   "id": "8c6fc8aa",
   "metadata": {},
   "source": [
    "- merge The DataFrames:"
   ]
  },
  {
   "cell_type": "code",
   "execution_count": 5,
   "id": "03ba92fc",
   "metadata": {},
   "outputs": [],
   "source": [
    "# Merge the dataframes\n",
    "merged_df = superhero_info_df.merge(superhero_powers_encoded, left_on='Hero', right_on='hero_names', how='left')"
   ]
  },
  {
   "cell_type": "markdown",
   "id": "f7589571",
   "metadata": {},
   "source": [
    "# Answer the Questions:"
   ]
  },
  {
   "cell_type": "code",
   "execution_count": 14,
   "id": "e70c5708",
   "metadata": {
    "scrolled": true
   },
   "outputs": [
    {
     "name": "stdout",
     "output_type": "stream",
     "text": [
      "\n",
      " Most used height of heroes for each publisher:\n",
      "Publisher\n",
      "DC Comics            188.0\n",
      "Dark Horse Comics    183.0\n",
      "George Lucas         198.0\n",
      "Image Comics         211.0\n",
      "Marvel Comics        188.0\n",
      "Shueisha             168.0\n",
      "Star Trek            185.0\n",
      "Team Epic TV         185.0\n",
      "Unknown              178.0\n",
      "Name: Height, dtype: float64\n",
      "\n",
      " The hero with the most powerful superpower is: [3271]\"A-Bomb\"\n"
     ]
    },
    {
     "name": "stderr",
     "output_type": "stream",
     "text": [
      "C:\\Users\\casta\\AppData\\Local\\Temp\\ipykernel_20076\\1148644856.py:5: FutureWarning: Dropping of nuisance columns in DataFrame reductions (with 'numeric_only=None') is deprecated; in a future version this will raise TypeError.  Select only valid columns before calling the reduction.\n",
      "  most_powerful = merged_df.iloc[:, 11:].sum(axis=1).idxmax()\n"
     ]
    }
   ],
   "source": [
    "# Answer the questions\n",
    "most_used_height = merged_df.groupby('Publisher')['Height'].apply(lambda x: x.mode().iloc[0] if len(x.mode()) > 0 else None)\n",
    "\n",
    "# most powerful hero:\n",
    "most_powerful = merged_df.iloc[:, 11:].sum(axis=1).idxmax()\n",
    "most_powerful_hero = merged_df.iloc[0]['hero_names']\n",
    "\n",
    "print(\"\\n Most used height of heroes for each publisher:\")\n",
    "print(most_used_height)\n",
    "print(f\"\\n The hero with the most powerful superpower is: [{most_powerful}]\\\"{most_powerful_hero}\\\"\")"
   ]
  },
  {
   "cell_type": "code",
   "execution_count": null,
   "id": "73a6082d",
   "metadata": {},
   "outputs": [],
   "source": []
  }
 ],
 "metadata": {
  "kernelspec": {
   "display_name": "Python (dojo-env)",
   "language": "python",
   "name": "dojo-env"
  },
  "language_info": {
   "codemirror_mode": {
    "name": "ipython",
    "version": 3
   },
   "file_extension": ".py",
   "mimetype": "text/x-python",
   "name": "python",
   "nbconvert_exporter": "python",
   "pygments_lexer": "ipython3",
   "version": "3.9.15"
  },
  "toc": {
   "base_numbering": 1,
   "nav_menu": {},
   "number_sections": true,
   "sideBar": true,
   "skip_h1_title": false,
   "title_cell": "Table of Contents",
   "title_sidebar": "Contents",
   "toc_cell": false,
   "toc_position": {},
   "toc_section_display": true,
   "toc_window_display": false
  }
 },
 "nbformat": 4,
 "nbformat_minor": 5
}
